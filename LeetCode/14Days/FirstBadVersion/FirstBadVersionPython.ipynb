{
 "cells": [
  {
   "cell_type": "code",
   "execution_count": 2,
   "metadata": {},
   "outputs": [],
   "source": [
    "test_case = 10"
   ]
  },
  {
   "cell_type": "code",
   "execution_count": 8,
   "metadata": {},
   "outputs": [],
   "source": [
    "def is_bad_version(version):\n",
    "    return version>=testCase"
   ]
  },
  {
   "cell_type": "code",
   "execution_count": 9,
   "metadata": {},
   "outputs": [],
   "source": [
    "class Solution():\n",
    "    def firstBadVersion(n):\n",
    "        low      = 1;\n",
    "        high     = n;\n",
    "        mid      = (low + high) / 2;\n",
    "        prev_mid = mid;\n",
    "        while(True):\n",
    "            mid = (low + high) / 2;\n",
    "            prev_mid = mid;\n",
    "            \n",
    "            low+=1\n",
    "            \n",
    "            \n",
    "            if (isBadVersion(low)      and not isBadVersion(mid) and not isBadVersion(high) ):\n",
    "                return low\n",
    "            \n",
    "            \n",
    "            if (not isBadVersion(low)  and isBadVersion(mid)     and not isBadVersion(high)):\n",
    "                return low\n",
    "            \n",
    "            if (isBadVersion(low)      and isBadVersion(mid)     and not isBadVersion(high)):\n",
    "                return low\n",
    "            \n",
    "            if (not isBadVersion(low)  and not isBadVersion(mid) and isBadVersion(high)):\n",
    "                return low\n",
    "            \n",
    "            if (isBadVersion(low)      and not isBadVersion(mid) and isBadVersion(high)):\n",
    "                return low\n",
    "            \n",
    "            if (not isBadVersion(low)  and isBadVersion(mid)     and isBadVersion(high)):\n",
    "                return low\n",
    "            \n",
    "            if (isBadVersion(low)      and isBadVersion(mid)     and isBadVersion(high)):\n",
    "                return low"
   ]
  },
  {
   "cell_type": "code",
   "execution_count": null,
   "metadata": {},
   "outputs": [],
   "source": []
  }
 ],
 "metadata": {
  "kernelspec": {
   "display_name": "Python 3 (ipykernel)",
   "language": "python",
   "name": "python3"
  },
  "language_info": {
   "codemirror_mode": {
    "name": "ipython",
    "version": 3
   },
   "file_extension": ".py",
   "mimetype": "text/x-python",
   "name": "python",
   "nbconvert_exporter": "python",
   "pygments_lexer": "ipython3",
   "version": "3.8.12"
  }
 },
 "nbformat": 4,
 "nbformat_minor": 4
}
