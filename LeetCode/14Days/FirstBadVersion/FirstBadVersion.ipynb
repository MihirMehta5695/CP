{
 "cells": [
  {
   "cell_type": "code",
   "execution_count": 7,
   "metadata": {},
   "outputs": [],
   "source": [
    "// Binary Search example\n",
    "\n",
    "using std::vector;\n",
    "class Solution1\n",
    "{\n",
    "public:\n",
    "    int search(std::vector<int> &nums, int target)\n",
    "    {\n",
    "        int low = 0;\n",
    "        int high = nums.size() - 1;\n",
    "        int mid = 0;\n",
    "        while (low <= high)\n",
    "        {\n",
    "            mid = (low + high) / 2;\n",
    "            if (nums[mid] == target)\n",
    "            {\n",
    "                return mid;\n",
    "            }\n",
    "            if (target < nums[mid])\n",
    "            {\n",
    "                high = mid - 1;\n",
    "            }\n",
    "            else\n",
    "            {\n",
    "                low = mid + 1;\n",
    "            }\n",
    "        }\n",
    "        return -1;\n",
    "    }\n",
    "};"
   ]
  },
  {
   "cell_type": "code",
   "execution_count": 2,
   "metadata": {},
   "outputs": [],
   "source": [
    "int testCase = 10;"
   ]
  },
  {
   "cell_type": "code",
   "execution_count": 3,
   "metadata": {},
   "outputs": [],
   "source": [
    "bool isBadVersion(int version){\n",
    "    return version==testCase;\n",
    "}"
   ]
  },
  {
   "cell_type": "code",
   "execution_count": 6,
   "metadata": {},
   "outputs": [
    {
     "data": {
      "text/plain": [
       "true"
      ]
     },
     "execution_count": 6,
     "metadata": {},
     "output_type": "execute_result"
    }
   ],
   "source": [
    "class Solution {\n",
    "public:\n",
    "    int firstBadVersion(int n) {\n",
    "        int low  = 1;\n",
    "        int high = n;\n",
    "        int mid  = (low + high) / 2;\n",
    "        int prev_mid = mid;\n",
    "        while (true){\n",
    "            mid = (low + high) / 2;\n",
    "            int prev_mid = mid;\n",
    "            \n",
    "            if (isBadVersion(low) && isBadVersion(mid) && isBadVersion(high))\n",
    "            {\n",
    "                return low;\n",
    "            }\n",
    "            \n",
    "            low++;\n",
    "            \n",
    "            \n",
    "            if (isBadVersion(low)  && isBadVersion(mid)  && !isBadVersion(high))\n",
    "            {\n",
    "                return low;\n",
    "            }\n",
    "            \n",
    "            \n",
    "            if (isBadVersion(low)  && !isBadVersion(mid) && isBadVersion(high))\n",
    "            {\n",
    "                return low;\n",
    "            }\n",
    "            \n",
    "            \n",
    "            if (isBadVersion(low) && !isBadVersion(mid) && !isBadVersion(high))\n",
    "            {\n",
    "                return low;\n",
    "            }\n",
    "            \n",
    "            \n",
    "            if (!isBadVersion(low) && isBadVersion(mid) && isBadVersion(high))\n",
    "            {\n",
    "                return low;\n",
    "            }\n",
    "            \n",
    "            \n",
    "            if (!isBadVersion(low) && isBadVersion(mid) && !isBadVersion(high))\n",
    "            {\n",
    "                return low;\n",
    "            }\n",
    "            \n",
    "            \n",
    "            if (!isBadVersion(low) && !isBadVersion(mid) && isBadVersion(high))\n",
    "            {\n",
    "                return low;\n",
    "            }\n",
    "            \n",
    "            \n",
    "            if (!isBadVersion(low) && !isBadVersion(mid) && !isBadVersion(high))\n",
    "            {\n",
    "                return low;\n",
    "            }\n",
    "        }\n",
    "    }\n",
    "};"
   ]
  }
 ],
 "metadata": {
  "kernelspec": {
   "display_name": "C++14",
   "language": "C++14",
   "name": "xcpp14"
  },
  "language_info": {
   "codemirror_mode": "text/x-c++src",
   "file_extension": ".cpp",
   "mimetype": "text/x-c++src",
   "name": "c++",
   "version": "14"
  }
 },
 "nbformat": 4,
 "nbformat_minor": 4
}
